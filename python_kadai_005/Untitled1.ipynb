{
  "nbformat": 4,
  "nbformat_minor": 0,
  "metadata": {
    "colab": {
      "provenance": []
    },
    "kernelspec": {
      "name": "python3",
      "display_name": "Python 3"
    },
    "language_info": {
      "name": "python"
    }
  },
  "cells": [
    {
      "cell_type": "code",
      "execution_count": 2,
      "metadata": {
        "colab": {
          "base_uri": "https://localhost:8080/"
        },
        "id": "5MYc5JA61Ogo",
        "outputId": "6270542f-431e-4944-af9c-bbe03f8a35ee"
      },
      "outputs": [
        {
          "output_type": "stream",
          "name": "stdout",
          "text": [
            "75.0㎠\n"
          ]
        }
      ],
      "source": [
        "#台形の面積\n",
        "top_side = (10)\n",
        "bottom_side =(20)\n",
        "hight =(5)\n",
        "area = (top_side + bottom_side) * hight / 2\n",
        "#面積の表示\n",
        "print(str(area)+\"㎠\")"
      ]
    }
  ]
}