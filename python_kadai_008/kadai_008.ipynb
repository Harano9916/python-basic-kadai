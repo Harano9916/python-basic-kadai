{
  "nbformat": 4,
  "nbformat_minor": 0,
  "metadata": {
    "colab": {
      "provenance": []
    },
    "kernelspec": {
      "name": "python3",
      "display_name": "Python 3"
    },
    "language_info": {
      "name": "python"
    }
  },
  "cells": [
    {
      "cell_type": "code",
      "execution_count": 9,
      "metadata": {
        "colab": {
          "base_uri": "https://localhost:8080/"
        },
        "id": "lzQn2ShLQ2aX",
        "outputId": "b325d5a7-9662-4f00-9be0-dfd9414ca630"
      },
      "outputs": [
        {
          "output_type": "stream",
          "name": "stdout",
          "text": [
            "59\n"
          ]
        }
      ],
      "source": [
        "import random\n",
        "num = random.randint(1,100)\n",
        "if num % 3 == 0 and num % 5 == 0:\n",
        "  print(\"FizzBuzz\")\n",
        "elif num % 3 == 0:\n",
        "  print(\"Fizz\")\n",
        "elif num % 5 == 0:\n",
        "  print(\"Buzz\")\n",
        "else:\n",
        "  print(num)"
      ]
    }
  ]
}