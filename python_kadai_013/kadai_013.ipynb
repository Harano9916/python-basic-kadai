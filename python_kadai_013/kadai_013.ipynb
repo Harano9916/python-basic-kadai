{
  "nbformat": 4,
  "nbformat_minor": 0,
  "metadata": {
    "colab": {
      "provenance": []
    },
    "kernelspec": {
      "name": "python3",
      "display_name": "Python 3"
    },
    "language_info": {
      "name": "python"
    }
  },
  "cells": [
    {
      "cell_type": "code",
      "execution_count": 9,
      "metadata": {
        "colab": {
          "base_uri": "https://localhost:8080/"
        },
        "id": "-RzRTb8hg2FQ",
        "outputId": "8b81a67f-ee0d-4350-d8f6-9ded35ffb4ce"
      },
      "outputs": [
        {
          "output_type": "stream",
          "name": "stdout",
          "text": [
            "税抜き価格150円、税込み価格165.0円\n"
          ]
        }
      ],
      "source": [
        "def total_price (price , tax):\n",
        "    total_price = price + price * tax\n",
        "    return total_price\n",
        "\n",
        "\n",
        "including_tax = total_price(150,0.1)\n",
        "print(f\"税抜き価格{150}円、税込み価格{including_tax}円\")"
      ]
    }
  ]
}