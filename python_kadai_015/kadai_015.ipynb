{
  "nbformat": 4,
  "nbformat_minor": 0,
  "metadata": {
    "colab": {
      "provenance": []
    },
    "kernelspec": {
      "name": "python3",
      "display_name": "Python 3"
    },
    "language_info": {
      "name": "python"
    }
  },
  "cells": [
    {
      "cell_type": "code",
      "execution_count": 2,
      "metadata": {
        "colab": {
          "base_uri": "https://localhost:8080/"
        },
        "id": "KECeFOFebeQF",
        "outputId": "c42c6a58-e968-495d-c995-63fee383f094"
      },
      "outputs": [
        {
          "output_type": "stream",
          "name": "stdout",
          "text": [
            "名前 佐藤\n",
            "年齢 20\n"
          ]
        }
      ],
      "source": [
        "class Human:\n",
        "    def __init__(self,name,age):\n",
        "      self.name = name\n",
        "      self.age = age\n",
        "\n",
        "    def set_name(self,name):\n",
        "      self.name = name\n",
        "    def set_name(self,age):\n",
        "      self.age =age\n",
        "\n",
        "    def printinfo(self):\n",
        "      print(\"名前\",self.name)\n",
        "      print(\"年齢\",self.age)\n",
        "\n",
        "user = Human(\"佐藤\",20)\n",
        "\n",
        "user.printinfo()"
      ]
    }
  ]
}