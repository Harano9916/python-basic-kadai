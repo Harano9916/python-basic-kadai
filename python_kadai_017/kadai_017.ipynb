{
  "nbformat": 4,
  "nbformat_minor": 0,
  "metadata": {
    "colab": {
      "provenance": []
    },
    "kernelspec": {
      "name": "python3",
      "display_name": "Python 3"
    },
    "language_info": {
      "name": "python"
    }
  },
  "cells": [
    {
      "cell_type": "code",
      "execution_count": 10,
      "metadata": {
        "colab": {
          "base_uri": "https://localhost:8080/"
        },
        "id": "iacIlzwMfObA",
        "outputId": "7875674f-0ae7-45a3-f297-0539bce949eb"
      },
      "outputs": [
        {
          "output_type": "stream",
          "name": "stdout",
          "text": [
            "名前 佐藤\n",
            "年齢 21\n",
            "大人です\n"
          ]
        }
      ],
      "source": [
        "class Human:\n",
        "\n",
        "  def __init__(self,name,age):\n",
        "    self.name = name\n",
        "    self.age = age\n",
        "  def set_name(self,name):\n",
        "    self.name = name\n",
        "  def set_name(self,age):\n",
        "    self.name = age\n",
        "  def printinfo(self):\n",
        "    print(\"名前\",self.name)\n",
        "    print(\"年齢\",self.age)\n",
        "  def check_adult(self):\n",
        "    if self.age >= 20 :\n",
        "      print(\"大人です\")\n",
        "    else:\n",
        "      print(\"大人ではありません\")\n",
        "\n",
        "user = Human(\"佐藤\",21)\n",
        "\n",
        "user.printinfo()\n",
        "\n",
        "user.check_adult()\n",
        "\n",
        "\n",
        "\n",
        "\n",
        "\n"
      ]
    }
  ]
}